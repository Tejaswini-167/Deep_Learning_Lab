{
  "nbformat": 4,
  "nbformat_minor": 0,
  "metadata": {
    "colab": {
      "provenance": []
    },
    "kernelspec": {
      "name": "python3",
      "display_name": "Python 3"
    },
    "language_info": {
      "name": "python"
    }
  },
  "cells": [
    {
      "cell_type": "markdown",
      "source": [
        "###Deep Learning Lab Manual CAI2503, Prepared By IC: Pakruddin.B, Asst.Prof., PSCSE,PU. 2025-26"
      ],
      "metadata": {
        "id": "5jOfBVEiWfvr"
      }
    },
    {
      "cell_type": "markdown",
      "source": [
        "### Lab 12: Transfer Learning with CNNs (VGG16)\n",
        "# -------------------------------------------\n",
        "Objective: Use pre-trained VGG16 for CIFAR-10 classification via transfer learning\n",
        "\n",
        "Duration: ~2 hours\n",
        "\n",
        "###What Students Will Learn\n",
        "What transfer learning is and why it’s useful.\n",
        "\n",
        "How to use VGG16 pre-trained on ImageNet for a new dataset.\n",
        "\n",
        "How to freeze base layers and train only the classification head.\n",
        "\n",
        "How preprocessing is critical for transfer learning.\n",
        "\n",
        "###Expected Outputs\n",
        "Accuracy plot showing fast convergence due to pre-trained weights.\n",
        "\n",
        "Loss plot showing stable learning.\n",
        "\n",
        "Sample predictions grid with predicted and true labels."
      ],
      "metadata": {
        "id": "qKzYnxv3WflP"
      }
    },
    {
      "cell_type": "code",
      "execution_count": null,
      "metadata": {
        "id": "S6klnKwVWW5u",
        "colab": {
          "base_uri": "https://localhost:8080/"
        },
        "outputId": "c5d7fb71-a2de-435d-898d-bbe12d43a34c"
      },
      "outputs": [
        {
          "output_type": "stream",
          "name": "stdout",
          "text": [
            "Downloading data from https://www.cs.toronto.edu/~kriz/cifar-10-python.tar.gz\n",
            "\u001b[1m170498071/170498071\u001b[0m \u001b[32m━━━━━━━━━━━━━━━━━━━━\u001b[0m\u001b[37m\u001b[0m \u001b[1m2s\u001b[0m 0us/step\n"
          ]
        }
      ],
      "source": [
        "\n",
        "import tensorflow as tf\n",
        "from tensorflow.keras import layers, models\n",
        "from tensorflow.keras.applications import VGG16\n",
        "from tensorflow.keras.applications.vgg16 import preprocess_input\n",
        "import matplotlib.pyplot as plt\n",
        "import numpy as np\n",
        "from sklearn.metrics import confusion_matrix, classification_report\n",
        "import seaborn as sns\n",
        "\n",
        "# 1. Load CIFAR-10 dataset\n",
        "(x_train, y_train), (x_test, y_test) = tf.keras.datasets.cifar10.load_data()\n",
        "\n",
        "# Resize CIFAR-10 images from 32x32 to 224x224 (VGG16 input size)\n",
        "x_train_resized = tf.image.resize(x_train, (224, 224))\n",
        "x_test_resized = tf.image.resize(x_test, (224, 224))\n",
        "\n",
        "# Preprocess input according to VGG16's requirements\n",
        "x_train_prep = preprocess_input(x_train_resized)\n",
        "x_test_prep = preprocess_input(x_test_resized)\n",
        "\n",
        "# 2. Load VGG16 without top layers\n",
        "base_model = VGG16(weights='imagenet', include_top=False, input_shape=(224, 224, 3))\n",
        "base_model.trainable = False  # Freeze base layers\n",
        "\n",
        "# 3. Build transfer learning model\n",
        "model = models.Sequential([\n",
        "    base_model,\n",
        "    layers.Flatten(),\n",
        "    layers.Dense(256, activation='relu'),\n",
        "    layers.Dropout(0.5),\n",
        "    layers.Dense(10, activation='softmax')\n",
        "])\n",
        "\n",
        "model.compile(optimizer='adam',\n",
        "              loss='sparse_categorical_crossentropy',\n",
        "              metrics=['accuracy'])\n",
        "\n",
        "# 4. Train model\n",
        "history = model.fit(\n",
        "    x_train_prep, y_train,\n",
        "    validation_split=0.2,\n",
        "    epochs=5,\n",
        "    batch_size=32,\n",
        "    verbose=1\n",
        ")\n",
        "\n",
        "# 5. Evaluate on test set\n",
        "test_loss, test_acc = model.evaluate(x_test_prep, y_test, verbose=0)\n",
        "print(f\"\\nTest Accuracy: {test_acc:.4f}\")\n",
        "\n",
        "# 6. Plot training vs validation accuracy\n",
        "plt.figure(figsize=(8, 6))\n",
        "plt.plot(history.history['accuracy'], label='Train Accuracy')\n",
        "plt.plot(history.history['val_accuracy'], label='Validation Accuracy')\n",
        "plt.title(\"Transfer Learning - VGG16 Accuracy\")\n",
        "plt.xlabel(\"Epochs\")\n",
        "plt.ylabel(\"Accuracy\")\n",
        "plt.legend()\n",
        "plt.grid(True)\n",
        "plt.show()\n",
        "\n",
        "# 7. Plot training vs validation loss\n",
        "plt.figure(figsize=(8, 6))\n",
        "plt.plot(history.history['loss'], label='Train Loss')\n",
        "plt.plot(history.history['val_loss'], label='Validation Loss')\n",
        "plt.title(\"Transfer Learning - VGG16 Loss\")\n",
        "plt.xlabel(\"Epochs\")\n",
        "plt.ylabel(\"Loss\")\n",
        "plt.legend()\n",
        "plt.grid(True)\n",
        "plt.show()\n",
        "\n",
        "# 8. Sample predictions\n",
        "preds = model.predict(x_test_prep[:10])\n",
        "pred_labels = np.argmax(preds, axis=1)\n",
        "\n",
        "class_names = ['Airplane', 'Automobile', 'Bird', 'Cat', 'Deer',\n",
        "               'Dog', 'Frog', 'Horse', 'Ship', 'Truck']\n",
        "\n",
        "plt.figure(figsize=(10, 5))\n",
        "for i in range(10):\n",
        "    plt.subplot(2, 5, i+1)\n",
        "    plt.imshow(x_test[i])\n",
        "    plt.title(f\"Pred: {class_names[pred_labels[i]]}\\nTrue: {class_names[int(y_test[i])]}\")\n",
        "    plt.axis('off')\n",
        "plt.tight_layout()\n",
        "plt.show()\n",
        "\n",
        "\n",
        "\n",
        "# 9. Generate predictions for the entire test set\n",
        "y_pred_probs = model.predict(x_test_prep)\n",
        "y_pred = np.argmax(y_pred_probs, axis=1)\n",
        "\n",
        "# Flatten true labels\n",
        "y_true = y_test.flatten()\n",
        "\n",
        "# 10. Confusion Matrix\n",
        "cm = confusion_matrix(y_true, y_pred)\n",
        "plt.figure(figsize=(10, 8))\n",
        "sns.heatmap(cm, annot=True, fmt='d', cmap='Blues',\n",
        "            xticklabels=class_names, yticklabels=class_names)\n",
        "plt.title(\"Confusion Matrix - VGG16 Transfer Learning CIFAR-10\")\n",
        "plt.xlabel(\"Predicted Label\")\n",
        "plt.ylabel(\"True Label\")\n",
        "plt.show()\n",
        "\n",
        "# 11. Classification Report\n",
        "print(\"\\nClassification Report - VGG16 Transfer Learning CIFAR-10\")\n",
        "print(classification_report(y_true, y_pred, target_names=class_names))\n"
      ]
    }
  ]
}